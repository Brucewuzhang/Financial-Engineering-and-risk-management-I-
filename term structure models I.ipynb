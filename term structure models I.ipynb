{
 "cells": [
  {
   "cell_type": "code",
   "execution_count": 32,
   "metadata": {},
   "outputs": [],
   "source": [
    "n= 10 #10 period\n",
    "r00= 0.05\n",
    "u=1.1\n",
    "d=0.9\n",
    "q=.5\n",
    "face_value=100.0"
   ]
  },
  {
   "cell_type": "code",
   "execution_count": 33,
   "metadata": {},
   "outputs": [],
   "source": [
    "import numpy as np"
   ]
  },
  {
   "cell_type": "code",
   "execution_count": 34,
   "metadata": {},
   "outputs": [],
   "source": [
    "def short_rate_tree(n,r00,u,d):\n",
    "    tree = np.zeros((n+1,n+1))\n",
    "    for i in range(n+1):\n",
    "        for j in range(i+1):\n",
    "            tree[i][j]=r00*u**j*d**(i-j)\n",
    "    return tree"
   ]
  },
  {
   "cell_type": "code",
   "execution_count": 35,
   "metadata": {},
   "outputs": [
    {
     "data": {
      "text/plain": [
       "array([[0.05      , 0.        , 0.        , 0.        , 0.        ,\n",
       "        0.        , 0.        , 0.        , 0.        , 0.        ,\n",
       "        0.        ],\n",
       "       [0.045     , 0.055     , 0.        , 0.        , 0.        ,\n",
       "        0.        , 0.        , 0.        , 0.        , 0.        ,\n",
       "        0.        ],\n",
       "       [0.0405    , 0.0495    , 0.0605    , 0.        , 0.        ,\n",
       "        0.        , 0.        , 0.        , 0.        , 0.        ,\n",
       "        0.        ],\n",
       "       [0.03645   , 0.04455   , 0.05445   , 0.06655   , 0.        ,\n",
       "        0.        , 0.        , 0.        , 0.        , 0.        ,\n",
       "        0.        ],\n",
       "       [0.032805  , 0.040095  , 0.049005  , 0.059895  , 0.073205  ,\n",
       "        0.        , 0.        , 0.        , 0.        , 0.        ,\n",
       "        0.        ],\n",
       "       [0.0295245 , 0.0360855 , 0.0441045 , 0.0539055 , 0.0658845 ,\n",
       "        0.0805255 , 0.        , 0.        , 0.        , 0.        ,\n",
       "        0.        ],\n",
       "       [0.02657205, 0.03247695, 0.03969405, 0.04851495, 0.05929605,\n",
       "        0.07247295, 0.08857805, 0.        , 0.        , 0.        ,\n",
       "        0.        ],\n",
       "       [0.02391485, 0.02922926, 0.03572465, 0.04366346, 0.05336645,\n",
       "        0.06522566, 0.07972025, 0.09743586, 0.        , 0.        ,\n",
       "        0.        ],\n",
       "       [0.02152336, 0.02630633, 0.03215218, 0.03929711, 0.0480298 ,\n",
       "        0.05870309, 0.07174822, 0.08769227, 0.10717944, 0.        ,\n",
       "        0.        ],\n",
       "       [0.01937102, 0.0236757 , 0.02893696, 0.0353674 , 0.04322682,\n",
       "        0.05283278, 0.0645734 , 0.07892304, 0.0964615 , 0.11789738,\n",
       "        0.        ],\n",
       "       [0.01743392, 0.02130813, 0.02604327, 0.03183066, 0.03890414,\n",
       "        0.0475495 , 0.05811606, 0.07103074, 0.08681535, 0.10610765,\n",
       "        0.12968712]])"
      ]
     },
     "execution_count": 35,
     "metadata": {},
     "output_type": "execute_result"
    }
   ],
   "source": [
    "short_rate_tree(n,r00,u,d)"
   ]
  },
  {
   "cell_type": "code",
   "execution_count": 36,
   "metadata": {},
   "outputs": [],
   "source": [
    "def zero_coupon_bond_price(n,r00,u,d,q,face_value):\n",
    "    price_tree = np.ones((n+1,n+1))*face_value\n",
    "    rate_tree = short_rate_tree(n,r00,u,d)\n",
    "    for i in range(n-1,-1,-1):\n",
    "        for j in range(i+1):\n",
    "            price_tree[i][j]=1/(1+rate_tree[i][j])*(q*price_tree[i+1][j+1]+(1-q)*price_tree[i+1][j])\n",
    "    return price_tree"
   ]
  },
  {
   "cell_type": "code",
   "execution_count": 37,
   "metadata": {},
   "outputs": [
    {
     "data": {
      "text/plain": [
       "array([[ 61.62195812, 100.        , 100.        , 100.        ,\n",
       "        100.        , 100.        , 100.        , 100.        ,\n",
       "        100.        , 100.        , 100.        ],\n",
       "       [ 67.44102962,  61.96508242, 100.        , 100.        ,\n",
       "        100.        , 100.        , 100.        , 100.        ,\n",
       "        100.        , 100.        , 100.        ],\n",
       "       [ 72.8818303 ,  68.06992161,  62.6764023 , 100.        ,\n",
       "        100.        , 100.        , 100.        , 100.        ,\n",
       "        100.        , 100.        , 100.        ],\n",
       "       [ 77.88686151,  73.78022735,  69.09853811,  63.83811117,\n",
       "        100.        , 100.        , 100.        , 100.        ,\n",
       "        100.        , 100.        , 100.        ],\n",
       "       [ 82.42221636,  79.02945886,  75.10481409,  70.61709293,\n",
       "         65.55598201, 100.        , 100.        , 100.        ,\n",
       "        100.        , 100.        , 100.        ],\n",
       "       [ 86.47456207,  83.77759226,  80.61869778,  76.95195323,\n",
       "         72.7414542 ,  67.96856115, 100.        , 100.        ,\n",
       "        100.        , 100.        , 100.        ],\n",
       "       [ 90.04745952,  88.00790104,  85.59359608,  82.75509419,\n",
       "         79.4450793 ,  75.62289779,  71.26062925, 100.        ,\n",
       "        100.        , 100.        , 100.        ],\n",
       "       [ 93.15753262,  91.72287761,  90.00938088,  87.97292426,\n",
       "         85.56698264,  82.74473475,  79.4622898 ,  75.68322386,\n",
       "        100.        , 100.        , 100.        ],\n",
       "       [ 95.83084612,  94.93991503,  93.86782294,  92.58204517,\n",
       "         91.04620698,  89.22056963,  87.06305891,  84.53102713,\n",
       "         81.58393985, 100.        , 100.        ],\n",
       "       [ 98.09970815,  97.68718779,  97.18768365,  96.58407261,\n",
       "         95.85643126,  94.98184503,  93.93434041,  92.6850165 ,\n",
       "         91.20247298,  89.45364877, 100.        ],\n",
       "       [100.        , 100.        , 100.        , 100.        ,\n",
       "        100.        , 100.        , 100.        , 100.        ,\n",
       "        100.        , 100.        , 100.        ]])"
      ]
     },
     "execution_count": 37,
     "metadata": {},
     "output_type": "execute_result"
    }
   ],
   "source": [
    "zero_coupon_bond_price(n,r00,u,d,q,face_value)"
   ]
  },
  {
   "cell_type": "code",
   "execution_count": 38,
   "metadata": {},
   "outputs": [
    {
     "data": {
      "text/plain": [
       "0.8228895735604677"
      ]
     },
     "execution_count": 38,
     "metadata": {},
     "output_type": "execute_result"
    }
   ],
   "source": [
    "zero_coupon_bond_price(4,r00,u,d,q,1)[0][0]"
   ]
  },
  {
   "cell_type": "code",
   "execution_count": 39,
   "metadata": {},
   "outputs": [],
   "source": [
    "#Compute the price of a forward contract on the same ZCB of the previous question where the forward contract matures at time t=4\n",
    "def forward_price(n,r00,u,d,q,face_value,maturity = 4):\n",
    "    rate_tree = short_rate_tree(n,r00,u,d)\n",
    "    expect_B = zero_coupon_bond_price(4,r00,u,d,q,1)[0][0]\n",
    "    tree = zero_coupon_bond_price(n,r00,u,d,q,face_value)[0:maturity+1,0:maturity+1]\n",
    "    for i in range(maturity-1,-1,-1):\n",
    "        for j in range(i+1):\n",
    "            tree[i][j]=1/(1+rate_tree[i][j])*(q*tree[i+1][j+1]+(1-q)*tree[i+1][j])\n",
    "    return tree[0][0]/expect_B"
   ]
  },
  {
   "cell_type": "code",
   "execution_count": 40,
   "metadata": {},
   "outputs": [
    {
     "data": {
      "text/plain": [
       "74.88484493844841"
      ]
     },
     "execution_count": 40,
     "metadata": {},
     "output_type": "execute_result"
    }
   ],
   "source": [
    "forward_price(n,r00,u,d,q,face_value,maturity = 4)"
   ]
  },
  {
   "cell_type": "code",
   "execution_count": 41,
   "metadata": {},
   "outputs": [],
   "source": [
    "def future_price(n,r00,u,d,q,face_value,maturity = 4):\n",
    "    tree = zero_coupon_bond_price(n,r00,u,d,q,face_value)[0:maturity+1,0:maturity+1]\n",
    "    for i in range(maturity-1,-1,-1):\n",
    "        for j in range(i+1):\n",
    "            tree[i][j]=(q*tree[i+1][j+1]+(1-q)*tree[i+1][j])\n",
    "    return tree[0][0]"
   ]
  },
  {
   "cell_type": "code",
   "execution_count": 42,
   "metadata": {},
   "outputs": [
    {
     "data": {
      "text/plain": [
       "74.82458063139569"
      ]
     },
     "execution_count": 42,
     "metadata": {},
     "output_type": "execute_result"
    }
   ],
   "source": [
    "future_price(n,r00,u,d,q,face_value,maturity = 4)"
   ]
  },
  {
   "cell_type": "code",
   "execution_count": 66,
   "metadata": {},
   "outputs": [],
   "source": [
    "def american_call_option_on_zcb(n,r00,u,d,q,face_value,expiration = 6, K=80.0):\n",
    "    tree = zero_coupon_bond_price(n,r00,u,d,q,face_value)[0:expiration+1,0:expiration+1]\n",
    "    f=np.vectorize(lambda x:max(float(x)-float(K),0.0))\n",
    "    payoff = f(tree)\n",
    "    rate_tree = short_rate_tree(n,r00,u,d)\n",
    "    for i in range(expiration-1,-1,-1):\n",
    "        for j in range(i+1):\n",
    "            payoff[i][j]=max(payoff[i][j],1/(1+rate_tree[i][j])*(q*payoff[i+1][j+1]+(1-q)*payoff[i+1][j]))\n",
    "    return payoff"
   ]
  },
  {
   "cell_type": "code",
   "execution_count": 67,
   "metadata": {},
   "outputs": [
    {
     "data": {
      "text/plain": [
       "array([[ 2.35721516, 20.        , 20.        , 20.        , 20.        ,\n",
       "        20.        , 20.        ],\n",
       "       [ 3.39350009,  1.55665175, 20.        , 20.        , 20.        ,\n",
       "        20.        , 20.        ],\n",
       "       [ 4.64733524,  2.44507995,  0.83945526, 20.        , 20.        ,\n",
       "        20.        , 20.        ],\n",
       "       [ 6.03029794,  3.64080669,  1.49141612,  0.28906847, 20.        ,\n",
       "        20.        , 20.        ],\n",
       "       [ 7.42283086,  5.07737375,  2.5286355 ,  0.61661196,  0.        ,\n",
       "        20.        , 20.        ],\n",
       "       [ 8.76878625,  6.5638874 ,  3.9980147 ,  1.30708787,  0.        ,\n",
       "         0.        , 20.        ],\n",
       "       [10.04745952,  8.00790104,  5.59359608,  2.75509419,  0.        ,\n",
       "         0.        ,  0.        ]])"
      ]
     },
     "execution_count": 67,
     "metadata": {},
     "output_type": "execute_result"
    }
   ],
   "source": [
    "american_call_option_on_zcb(n,r00,u,d,q,face_value,expiration = 6, K=80.0)"
   ]
  },
  {
   "cell_type": "code",
   "execution_count": 80,
   "metadata": {},
   "outputs": [],
   "source": [
    "def forward_equation_lattice(n,r00,u,d,q=.5):\n",
    "    tree = np.zeros((n+1,n+1))\n",
    "    tree[0][0]=1\n",
    "    rate_tree= short_rate_tree(n,r00,u,d)\n",
    "    for i in range(1,n+1):\n",
    "        tree[i][0]=1/(1+rate_tree[i-1][0])*(1-q)*tree[i-1][0]\n",
    "        tree[i][i]=1/(1+rate_tree[i-1][i-1])*q*tree[i-1][i-1]\n",
    "    for i in range(2,n+1):\n",
    "        for j in range(1,i):\n",
    "            tree[i,j]=(1-q)*1/(1+rate_tree[i-1,j])*tree[i-1,j]+q*1/(1+rate_tree[i-1,j-1])*tree[i-1,j-1]\n",
    "    return tree"
   ]
  },
  {
   "cell_type": "code",
   "execution_count": 81,
   "metadata": {},
   "outputs": [
    {
     "data": {
      "text/plain": [
       "array([[1.00000000e+00, 0.00000000e+00, 0.00000000e+00, 0.00000000e+00,\n",
       "        0.00000000e+00, 0.00000000e+00, 0.00000000e+00, 0.00000000e+00,\n",
       "        0.00000000e+00, 0.00000000e+00, 0.00000000e+00],\n",
       "       [4.76190476e-01, 4.76190476e-01, 0.00000000e+00, 0.00000000e+00,\n",
       "        0.00000000e+00, 0.00000000e+00, 0.00000000e+00, 0.00000000e+00,\n",
       "        0.00000000e+00, 0.00000000e+00, 0.00000000e+00],\n",
       "       [2.27842333e-01, 4.53525023e-01, 2.25682690e-01, 0.00000000e+00,\n",
       "        0.00000000e+00, 0.00000000e+00, 0.00000000e+00, 0.00000000e+00,\n",
       "        0.00000000e+00, 0.00000000e+00, 0.00000000e+00],\n",
       "       [1.09486945e-01, 3.25554131e-01, 3.22471095e-01, 1.06403909e-01,\n",
       "        0.00000000e+00, 0.00000000e+00, 0.00000000e+00, 0.00000000e+00,\n",
       "        0.00000000e+00, 0.00000000e+00, 0.00000000e+00],\n",
       "       [5.28182475e-02, 2.08652880e-01, 3.08744251e-01, 2.02791907e-01,\n",
       "        4.98822880e-02, 0.00000000e+00, 0.00000000e+00, 0.00000000e+00,\n",
       "        0.00000000e+00, 0.00000000e+00, 0.00000000e+00],\n",
       "       [2.55702904e-02, 1.25875013e-01, 2.47465246e-01, 2.42826560e-01,\n",
       "        1.18905905e-01, 2.32398694e-02, 0.00000000e+00, 0.00000000e+00,\n",
       "        0.00000000e+00, 0.00000000e+00, 0.00000000e+00],\n",
       "       [1.24184953e-02, 7.31639708e-02, 1.79251452e-01, 2.33709171e-01,\n",
       "        1.70981238e-01, 6.65320103e-02, 1.07539662e-02, 0.00000000e+00,\n",
       "        0.00000000e+00, 0.00000000e+00, 0.00000000e+00],\n",
       "       [6.04852593e-03, 4.14798112e-02, 1.21635228e-01, 1.97651648e-01,\n",
       "        1.92152830e-01, 1.11723161e-01, 3.59574923e-02, 4.93945574e-03,\n",
       "        0.00000000e+00, 0.00000000e+00, 0.00000000e+00],\n",
       "       [2.95362742e-03, 2.31045370e-02, 7.88707770e-02, 1.53411143e-01,\n",
       "        1.85900195e-01, 1.43649996e-01, 6.90923772e-02, 1.89017535e-02,\n",
       "        2.25045305e-03, 0.00000000e+00, 0.00000000e+00],\n",
       "       [1.44569744e-03, 1.27018577e-02, 4.94631119e-02, 1.12012191e-01,\n",
       "        1.62495558e-01, 1.56532756e-01, 1.00075930e-01, 4.09224180e-02,\n",
       "        9.70522521e-03, 1.01630005e-03, 0.00000000e+00],\n",
       "       [7.09112487e-04, 6.91315626e-03, 3.02400701e-02, 7.81289941e-02,\n",
       "        1.31974189e-01, 1.52220071e-01, 1.21341682e-01, 6.59673074e-02,\n",
       "        2.33901776e-02, 4.88026144e-03, 4.54558740e-04]])"
      ]
     },
     "execution_count": 81,
     "metadata": {},
     "output_type": "execute_result"
    }
   ],
   "source": [
    "forward_equation_lattice(n,r00,u,d,q=.5)"
   ]
  },
  {
   "cell_type": "markdown",
   "metadata": {},
   "source": [
    "#Compute the initial value of a forward-starting swap that begins at t=1 with maturity t=10 and a fixed rate of 4.5%."
   ]
  },
  {
   "cell_type": "code",
   "execution_count": 78,
   "metadata": {},
   "outputs": [],
   "source": [
    "def forward_starting_swap_price(n,r00,u,d,q=.5,notional_principal = 1000000.0,fixed_rate = 0.045):\n",
    "    lattice = forward_equation_lattice(n,r00,u,d,q=.5)\n",
    "    rate_tree= short_rate_tree(n,r00,u,d)\n",
    "    s = 0 \n",
    "    for i in range(1,n+1):\n",
    "        for j in range(i+1):\n",
    "            s += -(fixed_rate - rate_tree[i][j])/(1+rate_tree[i][j])*lattice[i,j]\n",
    "    return s*notional_principal"
   ]
  },
  {
   "cell_type": "code",
   "execution_count": 76,
   "metadata": {},
   "outputs": [
    {
     "data": {
      "text/plain": [
       "33374.242062163794"
      ]
     },
     "execution_count": 76,
     "metadata": {},
     "output_type": "execute_result"
    }
   ],
   "source": [
    "forward_starting_swap_price(n,r00,u,d,q=.5,notional_principal = 1000000.0,fixed_rate = 0.045)"
   ]
  },
  {
   "cell_type": "code",
   "execution_count": 77,
   "metadata": {},
   "outputs": [
    {
     "data": {
      "text/plain": [
       "0.11250105654636125"
      ]
     },
     "execution_count": 77,
     "metadata": {},
     "output_type": "execute_result"
    }
   ],
   "source": [
    "0.1331/1.1831"
   ]
  },
  {
   "cell_type": "code",
   "execution_count": 83,
   "metadata": {},
   "outputs": [],
   "source": [
    "def swap_price_lattice(n,r00,u,d,q=.5,notional_principal = 1000000.0,fixed_rate = 0.045):\n",
    "    rate_tree= short_rate_tree(n,r00,u,d)\n",
    "    payoff = np.zeros((n+1,n+1))\n",
    "    for i in range(n+1):\n",
    "        payoff[n,i]=(rate_tree[n,i]-fixed_rate)/(1+rate_tree[n,i])\n",
    "    for i in range(n-1,-1,-1):\n",
    "        for j in range(i+1):\n",
    "            payoff[i,j]= (rate_tree[i,j]-fixed_rate+q*payoff[i+1,j+1]+(1-q)*payoff[i+1,j])/(1+rate_tree[i,j])\n",
    "    return payoff"
   ]
  },
  {
   "cell_type": "code",
   "execution_count": 85,
   "metadata": {},
   "outputs": [
    {
     "data": {
      "text/plain": [
       "array([[ 0.03813615,  0.        ,  0.        ,  0.        ,  0.        ,\n",
       "         0.        ,  0.        ,  0.        ,  0.        ,  0.        ,\n",
       "         0.        ],\n",
       "       [-0.00226851,  0.07235442,  0.        ,  0.        ,  0.        ,\n",
       "         0.        ,  0.        ,  0.        ,  0.        ,  0.        ,\n",
       "         0.        ],\n",
       "       [-0.03483091,  0.03008972,  0.1025781 ,  0.        ,  0.        ,\n",
       "         0.        ,  0.        ,  0.        ,  0.        ,  0.        ,\n",
       "         0.        ],\n",
       "       [-0.05929641, -0.00418671,  0.05834504,  0.12822312,  0.        ,\n",
       "         0.        ,  0.        ,  0.        ,  0.        ,  0.        ,\n",
       "         0.        ],\n",
       "       [-0.07568293, -0.0301326 ,  0.02228614,  0.0818577 ,  0.14855504,\n",
       "         0.        ,  0.        ,  0.        ,  0.        ,  0.        ,\n",
       "         0.        ],\n",
       "       [-0.08423175, -0.04770966, -0.00516187,  0.04390843,  0.09982271,\n",
       "         0.16262731,  0.        ,  0.        ,  0.        ,  0.        ,\n",
       "         0.        ],\n",
       "       [-0.08535465, -0.05713164, -0.02390194,  0.01491387,  0.0598258 ,\n",
       "         0.11120415,  0.16919076,  0.        ,  0.        ,  0.        ,\n",
       "         0.        ],\n",
       "       [-0.07958282, -0.05880668, -0.03412143, -0.00496807,  0.029213  ,\n",
       "         0.06894138,  0.11463961,  0.16655898,  0.        ,  0.        ,\n",
       "         0.        ],\n",
       "       [-0.06752113, -0.05328062, -0.036229  , -0.0159011 ,  0.0082042 ,\n",
       "         0.03660689,  0.06981804,  0.10829888,  0.15240501,  0.        ,\n",
       "         0.        ],\n",
       "       [-0.04980976, -0.04118577, -0.03079136, -0.01830069, -0.00334547,\n",
       "         0.01448236,  0.03562312,  0.06053517,  0.08967199,  0.12344851,\n",
       "         0.        ],\n",
       "       [-0.02709373, -0.02319758, -0.01847557, -0.01276308, -0.00586759,\n",
       "         0.00243378,  0.01239567,  0.02430438,  0.03847512,  0.05524566,\n",
       "         0.07496511]])"
      ]
     },
     "execution_count": 85,
     "metadata": {},
     "output_type": "execute_result"
    }
   ],
   "source": [
    "swap_price_lattice(n,r00,u,d,q=.5,fixed_rate = 0.045)"
   ]
  },
  {
   "cell_type": "code",
   "execution_count": 90,
   "metadata": {},
   "outputs": [],
   "source": [
    "def swaption_price(n,r00,u,d,q=.5,notional_principal = 1000000.0,fixed_rate = 0.045,t=5,K=0.0):\n",
    "    lattice = swap_price_lattice(n,r00,u,d,q=.5,fixed_rate = 0.045)\n",
    "    rate_tree= short_rate_tree(n,r00,u,d)\n",
    "    f= np.vectorize(lambda x: max(x-K,0.0))\n",
    "    payoff = f(lattice)[0:t+1,0:t+1]\n",
    "    for i in range(t-1,-1,-1):\n",
    "        for j in range(i+1):\n",
    "            payoff[i,j]=(q*payoff[i+1,j+1]+(1-q)*payoff[i+1,j])/(1+rate_tree[i,j])\n",
    "    return payoff[0,0]*notional_principal"
   ]
  },
  {
   "cell_type": "code",
   "execution_count": 91,
   "metadata": {},
   "outputs": [
    {
     "data": {
      "text/plain": [
       "26311.07949019227"
      ]
     },
     "execution_count": 91,
     "metadata": {},
     "output_type": "execute_result"
    }
   ],
   "source": [
    "swaption_price(n,r00,u,d,q=.5,notional_principal = 1000000.0,fixed_rate = 0.045,t=5,K=0.0)"
   ]
  },
  {
   "cell_type": "code",
   "execution_count": null,
   "metadata": {},
   "outputs": [],
   "source": []
  }
 ],
 "metadata": {
  "kernelspec": {
   "display_name": "Python 3",
   "language": "python",
   "name": "python3"
  },
  "language_info": {
   "codemirror_mode": {
    "name": "ipython",
    "version": 3
   },
   "file_extension": ".py",
   "mimetype": "text/x-python",
   "name": "python",
   "nbconvert_exporter": "python",
   "pygments_lexer": "ipython3",
   "version": "3.7.1"
  }
 },
 "nbformat": 4,
 "nbformat_minor": 2
}
