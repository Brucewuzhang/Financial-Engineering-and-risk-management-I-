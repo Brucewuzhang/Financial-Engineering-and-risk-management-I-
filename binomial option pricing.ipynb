{
 "cells": [
  {
   "cell_type": "code",
   "execution_count": 209,
   "metadata": {},
   "outputs": [],
   "source": [
    "# using binomial model to approximate balck scholes model\n",
    "import math\n",
    "import scipy.special\n",
    "import numpy as np\n",
    "def american_call_option_price(T,S_0,r,c,sigma,n,K): # it's never optimal to exercise an american call opiton before the expiration\n",
    "    dt = T/n\n",
    "    R_n = math.exp(r*dt)\n",
    "    R_C = math.exp((r-c)*dt)\n",
    "    u_n = math.exp(sigma*(dt**0.5))\n",
    "    d_n = 1/u_n\n",
    "    q_n = (R_C-d_n)/(u_n-d_n)\n",
    "    # value sequence\n",
    "    s_n = [S_0*u_n**(n-i)*d_n**i for i in range(n+1)]\n",
    "    binom_coef = np.array([scipy.special.binom(n,i)*q_n**(n-i)*(1-q_n)**(i) for i in range(n+1)])\n",
    "    payoff = np.array([max(x-K,0) for x in s_n])\n",
    "    return sum(binom_coef*payoff)/(R_n**n)  #return the discounted value"
   ]
  },
  {
   "cell_type": "code",
   "execution_count": 210,
   "metadata": {},
   "outputs": [],
   "source": [
    "q1=american_call_option_price(0.25,100,0.02,0.01,0.3,15,110)"
   ]
  },
  {
   "cell_type": "code",
   "execution_count": 211,
   "metadata": {},
   "outputs": [
    {
     "data": {
      "text/plain": [
       "2.604077132966558"
      ]
     },
     "execution_count": 211,
     "metadata": {},
     "output_type": "execute_result"
    }
   ],
   "source": [
    "q1"
   ]
  },
  {
   "cell_type": "code",
   "execution_count": 212,
   "metadata": {},
   "outputs": [],
   "source": [
    "#american put option\n",
    "#actually this is a stock price tree\n",
    "def american_put_option_tree(T,S_0,r,c,sigma,n): \n",
    "    dt = T/n\n",
    "    R_n = math.exp(r*dt)\n",
    "    R_C = math.exp((r-c)*dt)\n",
    "    u_n = math.exp(sigma*(dt**0.5))\n",
    "    d_n = 1/u_n\n",
    "    q_n = (R_C-d_n)/(u_n-d_n)\n",
    "    tree = np.zeros((n+1,n+1))\n",
    "    for i in range(n+1):\n",
    "        for j in range(i+1):\n",
    "            tree[i][j]=S_0*u_n**j*d_n**(i-j)\n",
    "    return tree"
   ]
  },
  {
   "cell_type": "code",
   "execution_count": 213,
   "metadata": {},
   "outputs": [
    {
     "data": {
      "text/plain": [
       "array([[100.        ,   0.        ,   0.        ,   0.        ,\n",
       "          0.        ,   0.        ,   0.        ,   0.        ,\n",
       "          0.        ,   0.        ,   0.        ,   0.        ,\n",
       "          0.        ,   0.        ,   0.        ,   0.        ],\n",
       "       [ 96.20105771, 103.94896104,   0.        ,   0.        ,\n",
       "          0.        ,   0.        ,   0.        ,   0.        ,\n",
       "          0.        ,   0.        ,   0.        ,   0.        ,\n",
       "          0.        ,   0.        ,   0.        ,   0.        ],\n",
       "       [ 92.54643505, 100.        , 108.05386501,   0.        ,\n",
       "          0.        ,   0.        ,   0.        ,   0.        ,\n",
       "          0.        ,   0.        ,   0.        ,   0.        ,\n",
       "          0.        ,   0.        ,   0.        ,   0.        ],\n",
       "       [ 89.03064939,  96.20105771, 103.94896104, 112.32087004,\n",
       "          0.        ,   0.        ,   0.        ,   0.        ,\n",
       "          0.        ,   0.        ,   0.        ,   0.        ,\n",
       "          0.        ,   0.        ,   0.        ,   0.        ],\n",
       "       [ 85.6484264 ,  92.54643505, 100.        , 108.05386501,\n",
       "        116.75637744,   0.        ,   0.        ,   0.        ,\n",
       "          0.        ,   0.        ,   0.        ,   0.        ,\n",
       "          0.        ,   0.        ,   0.        ,   0.        ],\n",
       "       [ 82.39469211,  89.03064939,  96.20105771, 103.94896104,\n",
       "        112.32087004, 121.3670413 ,   0.        ,   0.        ,\n",
       "          0.        ,   0.        ,   0.        ,   0.        ,\n",
       "          0.        ,   0.        ,   0.        ,   0.        ],\n",
       "       [ 79.26456531,  85.6484264 ,  92.54643505, 100.        ,\n",
       "        108.05386501, 116.75637744, 126.15977848,   0.        ,\n",
       "          0.        ,   0.        ,   0.        ,   0.        ,\n",
       "          0.        ,   0.        ,   0.        ,   0.        ],\n",
       "       [ 76.25335021,  82.39469211,  89.03064939,  96.20105771,\n",
       "        103.94896104, 112.32087004, 121.3670413 , 131.14177898,\n",
       "          0.        ,   0.        ,   0.        ,   0.        ,\n",
       "          0.        ,   0.        ,   0.        ,   0.        ],\n",
       "       [ 73.35652945,  79.26456531,  85.6484264 ,  92.54643505,\n",
       "        100.        , 108.05386501, 116.75637744, 126.15977848,\n",
       "        136.32051674,   0.        ,   0.        ,   0.        ,\n",
       "          0.        ,   0.        ,   0.        ,   0.        ],\n",
       "       [ 70.56975723,  76.25335021,  82.39469211,  89.03064939,\n",
       "         96.20105771, 103.94896104, 112.32087004, 121.3670413 ,\n",
       "        131.14177898, 141.70376083,   0.        ,   0.        ,\n",
       "          0.        ,   0.        ,   0.        ,   0.        ],\n",
       "       [ 67.88885288,  73.35652945,  79.26456531,  85.6484264 ,\n",
       "         92.54643505, 100.        , 108.05386501, 116.75637744,\n",
       "        126.15977848, 136.32051674, 147.29958714,   0.        ,\n",
       "          0.        ,   0.        ,   0.        ,   0.        ],\n",
       "       [ 65.30979453,  70.56975723,  76.25335021,  82.39469211,\n",
       "         89.03064939,  96.20105771, 103.94896104, 112.32087004,\n",
       "        121.3670413 , 131.14177898, 141.70376083, 153.11639045,\n",
       "          0.        ,   0.        ,   0.        ,   0.        ],\n",
       "       [ 62.82871313,  67.88885288,  73.35652945,  79.26456531,\n",
       "         85.6484264 ,  92.54643505, 100.        , 108.05386501,\n",
       "        116.75637744, 126.15977848, 136.32051674, 147.29958714,\n",
       "        159.16289705,   0.        ,   0.        ,   0.        ],\n",
       "       [ 60.44188658,  65.30979453,  70.56975723,  76.25335021,\n",
       "         82.39469211,  89.03064939,  96.20105771, 103.94896104,\n",
       "        112.32087004, 121.3670413 , 131.14177898, 141.70376083,\n",
       "        153.11639045, 165.44817785,   0.        ,   0.        ],\n",
       "       [ 58.14573419,  62.82871313,  67.88885288,  73.35652945,\n",
       "         79.26456531,  85.6484264 ,  92.54643505, 100.        ,\n",
       "        108.05386501, 116.75637744, 126.15977848, 136.32051674,\n",
       "        147.29958714, 159.16289705, 171.98166193,   0.        ],\n",
       "       [ 55.9368113 ,  60.44188658,  65.30979453,  70.56975723,\n",
       "         76.25335021,  82.39469211,  89.03064939,  96.20105771,\n",
       "        103.94896104, 112.32087004, 121.3670413 , 131.14177898,\n",
       "        141.70376083, 153.11639045, 165.44817785, 178.77315076]])"
      ]
     },
     "execution_count": 213,
     "metadata": {},
     "output_type": "execute_result"
    }
   ],
   "source": [
    "american_put_option_tree(0.25,100,0.02,0.01,0.3,15)"
   ]
  },
  {
   "cell_type": "code",
   "execution_count": 244,
   "metadata": {},
   "outputs": [],
   "source": [
    "# american put option price tree\n",
    "def american_put_option_price_and_early_stopping(T,S_0,r,c,sigma,n,K):\n",
    "    dt = T/n\n",
    "    R_n = math.exp(r*dt)\n",
    "    R_C = math.exp((r-c)*dt)\n",
    "    u_n = math.exp(sigma*(dt**0.5))\n",
    "    d_n = 1/u_n\n",
    "    q_n = (R_C-d_n)/(u_n-d_n)\n",
    "    stopping_time=n\n",
    "    price_tree = american_put_option_tree(T,S_0,r,c,sigma,n)\n",
    "    f = np.vectorize(lambda x:max(x,0.0))\n",
    "    payoff=f(K-price_tree)\n",
    "    for i in range(n-1,-1,-1):\n",
    "        for j in range(i+1):\n",
    "            price = 1/R_n*(q_n*payoff[i+1][j+1]+(1-q_n)*payoff[i+1][j])\n",
    "            if payoff[i][j]> price:\n",
    "                stopping_time = i\n",
    "            else:\n",
    "                payoff[i][j]= price\n",
    "    return payoff[0][0],stopping_time\n",
    "    "
   ]
  },
  {
   "cell_type": "code",
   "execution_count": 245,
   "metadata": {},
   "outputs": [
    {
     "data": {
      "text/plain": [
       "(12.359784797284899, 5)"
      ]
     },
     "execution_count": 245,
     "metadata": {},
     "output_type": "execute_result"
    }
   ],
   "source": [
    "american_put_option_price_and_early_stopping(0.25,100,0.02,0.01,0.3,15,110)"
   ]
  },
  {
   "cell_type": "code",
   "execution_count": 246,
   "metadata": {},
   "outputs": [],
   "source": [
    "def future_price_lattice(T,S_0,r,c,sigma,n):\n",
    "    dt = T/n\n",
    "    R_n = math.exp(r*dt)\n",
    "    R_C = math.exp((r-c)*dt)\n",
    "    u_n = math.exp(sigma*(dt**0.5))\n",
    "    d_n = 1/u_n\n",
    "    q_n = (R_C-d_n)/(u_n-d_n)\n",
    "    price_tree = american_put_option_tree(T,S_0,r,c,sigma,n)\n",
    "    future_price_tree = np.zeros((n+1,n+1))\n",
    "    future_price_tree[n]=price_tree[n]\n",
    "    for i in range(n-1,-1,-1):\n",
    "        for j in range(i+1):\n",
    "            future_price_tree[i][j]=q_n*future_price_tree[i+1][j+1]+(1-q_n)*future_price_tree[i+1][j]\n",
    "    return future_price_tree"
   ]
  },
  {
   "cell_type": "code",
   "execution_count": 247,
   "metadata": {},
   "outputs": [
    {
     "data": {
      "text/plain": [
       "array([[100.25031276,   0.        ,   0.        ,   0.        ,\n",
       "          0.        ,   0.        ,   0.        ,   0.        ,\n",
       "          0.        ,   0.        ,   0.        ,   0.        ,\n",
       "          0.        ,   0.        ,   0.        ,   0.        ],\n",
       "       [ 96.42578893, 104.19179181,   0.        ,   0.        ,\n",
       "          0.        ,   0.        ,   0.        ,   0.        ,\n",
       "          0.        ,   0.        ,   0.        ,   0.        ,\n",
       "          0.        ,   0.        ,   0.        ,   0.        ],\n",
       "       [ 92.74716971, 100.21690156, 108.28823553,   0.        ,\n",
       "          0.        ,   0.        ,   0.        ,   0.        ,\n",
       "          0.        ,   0.        ,   0.        ,   0.        ,\n",
       "          0.        ,   0.        ,   0.        ,   0.        ],\n",
       "       [ 89.20888887,  96.39365236, 104.157067  , 112.54573658,\n",
       "          0.        ,   0.        ,   0.        ,   0.        ,\n",
       "          0.        ,   0.        ,   0.        ,   0.        ,\n",
       "          0.        ,   0.        ,   0.        ,   0.        ],\n",
       "       [ 85.80559254,  92.71625914, 100.18350149, 108.25214547,\n",
       "        116.97062714,   0.        ,   0.        ,   0.        ,\n",
       "          0.        ,   0.        ,   0.        ,   0.        ,\n",
       "          0.        ,   0.        ,   0.        ,   0.        ],\n",
       "       [ 82.5321311 ,  89.17915753,  96.36152649, 104.12235376,\n",
       "        112.50822758, 121.56948836,   0.        ,   0.        ,\n",
       "          0.        ,   0.        ,   0.        ,   0.        ,\n",
       "          0.        ,   0.        ,   0.        ,   0.        ],\n",
       "       [ 79.38355137,  85.77699544,  92.68535887, 100.15011256,\n",
       "        108.21606743, 116.93164343, 126.34916015,   0.        ,\n",
       "          0.        ,   0.        ,   0.        ,   0.        ,\n",
       "          0.        ,   0.        ,   0.        ,   0.        ],\n",
       "       [ 76.35508916,  82.50462497,  89.14943609,  96.32941134,\n",
       "        104.0876521 , 112.47073109, 121.52897195, 131.3167513 ,\n",
       "          0.        ,   0.        ,   0.        ,   0.        ,\n",
       "          0.        ,   0.        ,   0.        ,   0.        ],\n",
       "       [ 73.44216201,  79.3570946 ,  85.74840787,  92.6544689 ,\n",
       "        100.11673475, 108.18000142, 116.89267271, 126.30705078,\n",
       "        136.47965015,   0.        ,   0.        ,   0.        ,\n",
       "          0.        ,   0.        ,   0.        ,   0.        ],\n",
       "       [ 70.64036228,  76.3296417 ,  82.47712801,  89.11972457,\n",
       "         96.29730689, 104.05296199, 112.43324709, 121.48846905,\n",
       "        131.27298635, 141.84553547,   0.        ,   0.        ,\n",
       "          0.        ,   0.        ,   0.        ,   0.        ],\n",
       "       [ 67.9454505 ,  73.41768536,  79.33064664,  85.71982983,\n",
       "         92.62358922, 100.08336807, 108.14394743, 116.85371498,\n",
       "        126.26495544, 136.43416451, 147.42238796,   0.        ,\n",
       "          0.        ,   0.        ,   0.        ,   0.        ],\n",
       "       [ 65.35334891,  70.61681942,  76.30420273,  82.44964022,\n",
       "         89.09002294,  96.26521313, 104.01828345, 112.39577559,\n",
       "        121.44797964, 131.22923598, 141.7982615 , 153.21850207,\n",
       "          0.        ,   0.        ,   0.        ,   0.        ],\n",
       "       [ 62.86013534,  67.92280579,  73.39321688,  79.3042075 ,\n",
       "         85.69126132,  92.59271983, 100.0500125 , 108.10790545,\n",
       "        116.81477023, 126.22287414, 136.38869404, 147.37325535,\n",
       "        159.2424984 ,   0.        ,   0.        ,   0.        ],\n",
       "       [ 60.46203723,  65.33156809,  70.5932844 ,  76.27877223,\n",
       "         82.42216158,  89.06033122,  96.23313008, 103.98361647,\n",
       "        112.35831658, 121.40750372, 131.18550019, 141.75100329,\n",
       "        153.16743775, 165.50333643,   0.        ,   0.        ],\n",
       "       [ 58.15542595,  62.83918546,  67.90016863,  73.36875655,\n",
       "         79.27777717,  85.66270233,  92.56186074, 100.01666806,\n",
       "        108.07187549, 116.77583846, 126.18080686, 136.34323872,\n",
       "        147.32413912, 159.18942641, 172.01032793,   0.        ],\n",
       "       [ 55.9368113 ,  60.44188658,  65.30979453,  70.56975723,\n",
       "         76.25335021,  82.39469211,  89.03064939,  96.20105771,\n",
       "        103.94896104, 112.32087004, 121.3670413 , 131.14177898,\n",
       "        141.70376083, 153.11639045, 165.44817785, 178.77315076]])"
      ]
     },
     "execution_count": 247,
     "metadata": {},
     "output_type": "execute_result"
    }
   ],
   "source": [
    "future_price_lattice(0.25,100,0.02,0.01,0.3,15)"
   ]
  },
  {
   "cell_type": "code",
   "execution_count": 249,
   "metadata": {},
   "outputs": [],
   "source": [
    "def future_option_price(T,S_0,r,c,sigma,n,K,m=10):\n",
    "    f_p_l = future_price_lattice(T,S_0,r,c,sigma,n)\n",
    "    dt = T/n\n",
    "    R_n = math.exp(r*dt)\n",
    "    R_C = math.exp((r-c)*dt)\n",
    "    u_n = math.exp(sigma*(dt**0.5))\n",
    "    d_n = 1/u_n\n",
    "    q_n = (R_C-d_n)/(u_n-d_n)\n",
    "    # value sequence\n",
    "    f = np.vectorize(lambda x:max(x,0.0))\n",
    "    payoff=f(f_p_l-K)\n",
    "    stopping_time = m\n",
    "    for i in range(m-1,-1,-1):\n",
    "        for j in range(i+1):\n",
    "            price = 1/R_n*(q_n*payoff[i+1][j+1]+(1-q_n)*payoff[i+1][j])\n",
    "            if payoff[i,j]>= price:\n",
    "                stopping_time = i\n",
    "            else:\n",
    "                payoff[i,j]= price\n",
    "    return payoff[0][0],stopping_time"
   ]
  },
  {
   "cell_type": "code",
   "execution_count": 250,
   "metadata": {},
   "outputs": [
    {
     "data": {
      "text/plain": [
       "(1.6626726077880374, 4)"
      ]
     },
     "execution_count": 250,
     "metadata": {},
     "output_type": "execute_result"
    }
   ],
   "source": [
    "future_option_price(0.25,100,0.02,0.01,0.3,15,110.0,m=10)"
   ]
  },
  {
   "cell_type": "code",
   "execution_count": null,
   "metadata": {},
   "outputs": [],
   "source": []
  }
 ],
 "metadata": {
  "kernelspec": {
   "display_name": "Python 3",
   "language": "python",
   "name": "python3"
  },
  "language_info": {
   "codemirror_mode": {
    "name": "ipython",
    "version": 3
   },
   "file_extension": ".py",
   "mimetype": "text/x-python",
   "name": "python",
   "nbconvert_exporter": "python",
   "pygments_lexer": "ipython3",
   "version": "3.7.1"
  }
 },
 "nbformat": 4,
 "nbformat_minor": 2
}
